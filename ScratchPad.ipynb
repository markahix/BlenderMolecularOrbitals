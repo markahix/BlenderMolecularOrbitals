{
 "cells": [
  {
   "cell_type": "code",
   "execution_count": 24,
   "id": "35b5fbaf",
   "metadata": {
    "scrolled": false
   },
   "outputs": [],
   "source": [
    "import bpy\n",
    "def extract_coordinate_lines(molden):\n",
    "    with open(molden,\"r\") as f:\n",
    "        lines = f.readlines()\n",
    "    startprinting = False\n",
    "    coord_lines = []\n",
    "    for line in lines:\n",
    "        if \"[GTO]\" in line:\n",
    "            startprinting = False\n",
    "        if startprinting:\n",
    "            coord_lines.append(line)\n",
    "        if \"[Atoms] Angs\" in line:\n",
    "            startprinting = True\n",
    "\n",
    "    return coord_lines\n",
    "\n",
    "coordlines = extract_coordinate_lines(\"optim.molden.1\")\n",
    "\n",
    "class Atom():\n",
    "    def __init__(self,element,index,x,y,z):\n",
    "        self.element = element\n",
    "        self.index   = index\n",
    "        self.x       = x\n",
    "        self.y       = y\n",
    "        self.z       = z\n",
    "        self._object = bpy.ops.mesh.primitive_uv_sphere_add(location=self.location(),radius=1.0)\n",
    "        self.color()\n",
    "    def location(self):\n",
    "        return [self.x,self.y,self.z]\n",
    "    def color(self):\n",
    "        if bpy.context.active_object.data.materials:\n",
    "            bpy.context.active_object.data.materials[0] = bpy.data.materials.get(f\"Elements.{self.element}\")\n",
    "        else:\n",
    "            bpy.context.active_object.data.materials.append(bpy.data.materials.get(f\"Elements.{self.element}\"))\n",
    "\n",
    "system_atoms = {}\n",
    "for line in coordlines:\n",
    "    subline = line.split()\n",
    "    system_atoms[f\"{subline[0]}_{subline[1]}\"] = Atom(subline[0],subline[1],subline[3],subline[4],subline[5])"
   ]
  },
  {
   "cell_type": "code",
   "execution_count": 28,
   "id": "12770377",
   "metadata": {},
   "outputs": [
    {
     "name": "stdout",
     "output_type": "stream",
     "text": [
      "['N', '1', '7', '25.08623', '26.47482', '26.44984']\n",
      "['C', '2', '6', '25.20333', '25.86357', '25.26031']\n",
      "['N', '3', '7', '26.34411', '25.33155', '24.76035']\n",
      "['C', '4', '6', '23.81604', '26.95616', '26.52210']\n",
      "['H', '5', '1', '23.51399', '27.50560', '27.38210']\n",
      "['N', '6', '7', '23.12565', '26.64801', '25.49407']\n",
      "['C', '7', '6', '23.99267', '25.94806', '24.68121']\n",
      "['C', '8', '6', '23.85233', '25.44924', '23.35104']\n",
      "['O', '9', '8', '22.82883', '25.43269', '22.66512']\n",
      "['N', '10', '7', '25.03896', '24.95478', '22.85758']\n",
      "['H', '11', '1', '25.03181', '24.72017', '21.86209']\n",
      "['C', '12', '6', '26.22276', '24.93769', '23.53812']\n",
      "['N', '13', '7', '27.30824', '24.54733', '22.85678']\n",
      "['H', '14', '1', '27.15164', '24.10363', '21.97665']\n",
      "['C', '15', '6', '28.67075', '24.77057', '23.29270']\n",
      "['H', '16', '1', '29.00356', '23.91783', '23.83623']\n",
      "['C', '17', '6', '28.90288', '26.05372', '24.01345']\n",
      "['C', '18', '6', '29.31964', '26.12648', '25.37416']\n",
      "['C', '19', '6', '29.57084', '27.41138', '25.95851']\n",
      "['C', '20', '6', '29.89502', '27.54965', '27.30676']\n",
      "['C', '21', '6', '29.46835', '25.02711', '26.21879']\n",
      "['H', '22', '1', '29.33158', '24.04263', '25.81252']\n",
      "['C', '23', '6', '29.78597', '25.14341', '27.54028']\n",
      "['H', '24', '1', '29.86244', '24.25645', '28.18163']\n",
      "['C', '25', '6', '30.03707', '26.40482', '28.13447']\n",
      "['C', '26', '6', '30.34845', '26.53073', '29.49506']\n",
      "['H', '27', '1', '30.39318', '25.65304', '30.06042']\n",
      "['C', '28', '6', '30.53606', '27.81587', '30.02588']\n",
      "['H', '29', '1', '30.79835', '27.90866', '31.09044']\n",
      "['C', '30', '6', '30.43902', '28.92242', '29.23035']\n",
      "['H', '31', '1', '30.64865', '29.90979', '29.68173']\n",
      "['C', '32', '6', '30.14135', '28.83788', '27.86618']\n",
      "['C', '33', '6', '30.04102', '29.97845', '27.03617']\n",
      "['H', '34', '1', '30.20113', '30.92861', '27.46524']\n",
      "['C', '35', '6', '29.71766', '29.83696', '25.69481']\n",
      "['H', '36', '1', '29.66396', '30.71805', '25.06237']\n",
      "['C', '37', '6', '29.44139', '28.58143', '25.13628']\n",
      "['C', '38', '6', '29.09480', '28.44256', '23.79846']\n",
      "['H', '39', '1', '28.98900', '29.35531', '23.21446']\n",
      "['C', '40', '6', '28.80800', '27.21015', '23.25677']\n",
      "['C', '41', '6', '28.33431', '27.08286', '21.83706']\n",
      "['H', '42', '1', '27.33725', '26.71061', '21.88503']\n",
      "['O', '43', '8', '28.37624', '28.25929', '21.14609']\n",
      "['H', '44', '1', '27.65958', '28.81661', '21.46746']\n",
      "['C', '45', '6', '29.07875', '26.00921', '21.09971']\n",
      "['H', '46', '1', '29.96116', '26.45787', '20.66529']\n",
      "['O', '47', '8', '28.27707', '25.52976', '20.06871']\n",
      "['H', '48', '1', '28.57308', '24.67750', '19.81734']\n",
      "['C', '49', '6', '29.51644', '24.79991', '22.02847']\n",
      "['H', '50', '1', '30.57283', '24.95058', '22.32527']\n",
      "['O', '51', '8', '29.33919', '23.64470', '21.27601']\n",
      "['H', '52', '1', '29.74639', '22.88677', '21.72548']\n",
      "['H', '53', '1', '25.94746', '26.81779', '27.02321']\n"
     ]
    }
   ],
   "source": []
  },
  {
   "cell_type": "code",
   "execution_count": null,
   "id": "903f46e6",
   "metadata": {},
   "outputs": [],
   "source": []
  },
  {
   "cell_type": "code",
   "execution_count": null,
   "id": "66870c58",
   "metadata": {},
   "outputs": [],
   "source": []
  },
  {
   "cell_type": "code",
   "execution_count": null,
   "id": "116d8b09",
   "metadata": {},
   "outputs": [],
   "source": []
  }
 ],
 "metadata": {
  "kernelspec": {
   "display_name": "Python 3 (ipykernel)",
   "language": "python",
   "name": "python3"
  },
  "language_info": {
   "codemirror_mode": {
    "name": "ipython",
    "version": 3
   },
   "file_extension": ".py",
   "mimetype": "text/x-python",
   "name": "python",
   "nbconvert_exporter": "python",
   "pygments_lexer": "ipython3",
   "version": "3.9.7"
  }
 },
 "nbformat": 4,
 "nbformat_minor": 5
}
