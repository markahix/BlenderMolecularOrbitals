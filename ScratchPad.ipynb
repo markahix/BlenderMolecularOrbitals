{
 "cells": [
  {
   "cell_type": "code",
   "execution_count": 1,
   "id": "35b5fbaf",
   "metadata": {
    "scrolled": false
   },
   "outputs": [],
   "source": [
    "# import bpy\n",
    "# import ensurepip\n",
    "# ensurepip.sys.path.append(\"/home/mark/anaconda3/envs/amber/lib/python3.7/site-packages\")\n",
    "# ensurepip.sys.path.append(\"/home/mark/GH_Repositories/BlenderMolecularOrbitals/Libraries\")\n",
    "from Libraries.DrawingFunctions import *\n",
    "# from Libraries.ElementColors import *\n",
    "# from Libraries.Molden import *\n",
    "# from Libraries.QM_Structures import *\n",
    "# import parmed\n",
    "# import numpy as np\n",
    "import pytraj as pt\n",
    "import math"
   ]
  },
  {
   "cell_type": "code",
   "execution_count": 2,
   "id": "12770377",
   "metadata": {},
   "outputs": [],
   "source": [
    "traj = pt.load(\"test_data/coors.dcd\",\"test_data/BAP_sphere_nobox.prmtop\")\n",
    "\n",
    "with open(\"test_blender.py\",\"w\") as f:\n",
    "    f.write(\"import bpy\\n\")\n",
    "    f.write(draw_atoms(traj,0))\n",
    "    f.write(draw_bonds(traj,0))"
   ]
  },
  {
   "cell_type": "code",
   "execution_count": null,
   "id": "903f46e6",
   "metadata": {},
   "outputs": [],
   "source": []
  },
  {
   "cell_type": "code",
   "execution_count": 3,
   "id": "66870c58",
   "metadata": {},
   "outputs": [
    {
     "data": {
      "text/plain": [
       "4569"
      ]
     },
     "execution_count": 3,
     "metadata": {},
     "output_type": "execute_result"
    }
   ],
   "source": [
    "traj.top.n_atoms"
   ]
  },
  {
   "cell_type": "code",
   "execution_count": 6,
   "id": "1e5f5a08",
   "metadata": {},
   "outputs": [
    {
     "data": {
      "text/plain": [
       "4575"
      ]
     },
     "execution_count": 6,
     "metadata": {},
     "output_type": "execute_result"
    }
   ],
   "source": [
    "len(traj.top.bond_indices)"
   ]
  },
  {
   "cell_type": "code",
   "execution_count": null,
   "id": "e6ede288",
   "metadata": {},
   "outputs": [],
   "source": []
  }
 ],
 "metadata": {
  "kernelspec": {
   "display_name": "Python 3 (ipykernel)",
   "language": "python",
   "name": "python3"
  },
  "language_info": {
   "codemirror_mode": {
    "name": "ipython",
    "version": 3
   },
   "file_extension": ".py",
   "mimetype": "text/x-python",
   "name": "python",
   "nbconvert_exporter": "python",
   "pygments_lexer": "ipython3",
   "version": "3.7.11"
  }
 },
 "nbformat": 4,
 "nbformat_minor": 5
}
